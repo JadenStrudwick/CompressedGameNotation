{
 "cells": [
  {
   "cell_type": "code",
   "execution_count": 1,
   "metadata": {},
   "outputs": [],
   "source": [
    "\n",
    "import random\n",
    "import math\n",
    "import os\n",
    "import subprocess"
   ]
  },
  {
   "cell_type": "code",
   "execution_count": 2,
   "metadata": {},
   "outputs": [],
   "source": [
    "def single_experiment(height: float, dev: float) -> float:\n",
    "    output = subprocess.check_output([\"cargo\", \"run\", \"--release\", \"--\", str(height), str(dev)])\n",
    "    return float(output)"
   ]
  },
  {
   "cell_type": "code",
   "execution_count": 19,
   "metadata": {},
   "outputs": [],
   "source": [
    "os.chdir(\"../cgn\")\n",
    "\n",
    "# Function to generate a new solution within given bounds\n",
    "def generate_new_solution(current, lower_bound, upper_bound, step=1.0):\n",
    "    return max(lower_bound, min(upper_bound, current + step * (random.random() - 0.5)))\n",
    "\n",
    "# Simulated Annealing function\n",
    "def simulated_annealing(optimize_function):\n",
    "    # Hyperparameters\n",
    "    initial_temp = 1.0\n",
    "    final_temp = 0.001\n",
    "    alpha = 0.9\n",
    "    max_iterations = 1000\n",
    "\n",
    "    # Bounds\n",
    "    height_lower_bound = 100_000\n",
    "    height_initial = 500_000\n",
    "    height_upper_bound = 1_000_000\n",
    "    dev_lower_bound = 1\n",
    "    dev_initial = 5\n",
    "    dev_upper_bound = 10\n",
    "\n",
    "    # Initial solution\n",
    "    current_height = height_initial\n",
    "    current_dev = dev_initial\n",
    "    current_output = optimize_function(current_height, current_dev)\n",
    "\n",
    "    # Current best solution\n",
    "    best_height = current_height\n",
    "    best_dev = current_dev\n",
    "    best_output = current_output\n",
    "\n",
    "    temp = initial_temp\n",
    "\n",
    "    # Annealing process\n",
    "    while temp > final_temp:\n",
    "        for i in range(max_iterations):\n",
    "            # Generate new candidate solution\n",
    "            new_height = generate_new_solution(current_height, height_lower_bound, height_upper_bound, step=100_000)\n",
    "            new_dev = generate_new_solution(current_dev, dev_lower_bound, dev_upper_bound, step=1)\n",
    "\n",
    "            # Evaluate new solution\n",
    "            new_output = optimize_function(new_height, new_dev)\n",
    "\n",
    "            # Check if new solution is better or accept it with a certain probability\n",
    "            if new_output < best_output or random.random() < math.exp((current_output - new_output) / temp):\n",
    "                current_height = new_height\n",
    "                current_dev = new_dev\n",
    "                current_output = new_output\n",
    "\n",
    "                # Update best solution\n",
    "                if new_output < best_output:\n",
    "                    best_height = new_height\n",
    "                    best_dev = new_dev\n",
    "                    best_output = new_output\n",
    "\n",
    "            print(f\"\\rHeight: {new_height:.4f} Dev: {new_dev:.4f} Output: {new_output:.4f} Temp: {temp:.2f} Prog: {i/max_iterations:.2f} Best: {best_output:.4f}\", end=\"\")\n",
    "\n",
    "        # Cool down\n",
    "        temp *= alpha\n",
    "\n",
    "    return best_height, best_dev, best_output"
   ]
  },
  {
   "cell_type": "code",
   "execution_count": 20,
   "metadata": {},
   "outputs": [
    {
     "name": "stdout",
     "output_type": "stream",
     "text": [
      "Height: 412699.6612 Dev: 9.4558 Output: 4.4891 Temp: 0.66 Prog: 0.96 Best: 4.47800"
     ]
    }
   ],
   "source": [
    "# Example usage\n",
    "optimal_height, optimal_dev, optimal_output = simulated_annealing(single_experiment)\n",
    "print(\"Optimal height:\", optimal_height, \"Optimal dev:\", optimal_dev, \"Optimal output:\", optimal_output)"
   ]
  },
  {
   "cell_type": "code",
   "execution_count": null,
   "metadata": {},
   "outputs": [],
   "source": []
  }
 ],
 "metadata": {
  "kernelspec": {
   "display_name": "Python 3",
   "language": "python",
   "name": "python3"
  },
  "language_info": {
   "codemirror_mode": {
    "name": "ipython",
    "version": 3
   },
   "file_extension": ".py",
   "mimetype": "text/x-python",
   "name": "python",
   "nbconvert_exporter": "python",
   "pygments_lexer": "ipython3",
   "version": "3.10.11"
  }
 },
 "nbformat": 4,
 "nbformat_minor": 2
}
